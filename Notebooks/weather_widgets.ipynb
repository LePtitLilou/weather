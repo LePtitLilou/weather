{
 "cells": [
  {
   "cell_type": "code",
   "execution_count": 36,
   "metadata": {},
   "outputs": [
    {
     "data": {
      "application/vnd.jupyter.widget-view+json": {
       "model_id": "c7af06e649a049819365894840d2d167",
       "version_major": 2,
       "version_minor": 0
      },
      "text/plain": [
       "VBox(children=(HBox(children=(Dropdown(description='Weather Station', index=8, options=('KCALIVER88', 'KCALIVE…"
      ]
     },
     "metadata": {},
     "output_type": "display_data"
    }
   ],
   "source": [
    "import glob\n",
    "import os\n",
    "from ipywidgets import widgets\n",
    "import datetime\n",
    "\n",
    "today = datetime.date.today()\n",
    "\n",
    "weather_stations = [os.path.basename(p) for p in glob.glob(os.path.expanduser(\"~/Weather/history/*\"))]\n",
    "station = widgets.Dropdown(\n",
    "    options=weather_stations,\n",
    "    value='KCALIVER78',\n",
    "    #rows=10,\n",
    "    description='Weather Station',\n",
    "    disabled=False\n",
    ")\n",
    "\n",
    "start = widgets.DatePicker(\n",
    "    description='Pick a Start Date',\n",
    "    value = today,\n",
    "    disabled=False\n",
    ")\n",
    "end = widgets.DatePicker(\n",
    "    description='Pick an End Date',\n",
    "    value = today,\n",
    "    disabled=False\n",
    ")\n",
    "\n",
    "def on_button_clicked(b):\n",
    "    with output:\n",
    "        output.clear_output()\n",
    "        print(\"Button clicked.\")\n",
    "        \n",
    "output = widgets.Output()\n",
    "b = widgets.Button(description=\"Plot\", tooltip=\"Update Plot\")\n",
    "b.on_click(on_button_clicked)\n",
    "\n",
    "image = b\"\"\n",
    "img = widgets.Image(\n",
    "    value=image,\n",
    "    format='png',\n",
    "    width=300,\n",
    "    height=400,\n",
    ")\n",
    "\n",
    "h0 = widgets.HBox([station, b])\n",
    "h1 = widgets.HBox([start, end])\n",
    "h2 = widgets.HBox([b,])\n",
    "\n",
    "v = widgets.VBox([h0, h1, h2, img, output])\n",
    "start.observe(plot)\n",
    "end.observe(plot)\n",
    "\n",
    "def plot(change=None):\n",
    "    delta = end.value - start.value\n",
    "    if delta.day<3:\n",
    "        fqcy = \"sec\"\n",
    "    elif delta < 100:\n",
    "        fqcy = \"day\"\n",
    "    elif delta < 300:\n",
    "        fqcy = \"week\"\n",
    "    else:\n",
    "        fqcy = \"month\"\n",
    "        \n",
    "    with output:\n",
    "        output.clear_output()\n",
    "        print(delta.days, change)\n",
    "        \n",
    "plot()\n",
    "v"
   ]
  },
  {
   "cell_type": "code",
   "execution_count": null,
   "metadata": {},
   "outputs": [],
   "source": []
  }
 ],
 "metadata": {
  "kernelspec": {
   "display_name": "Python 3",
   "language": "python",
   "name": "python3"
  },
  "language_info": {
   "codemirror_mode": {
    "name": "ipython",
    "version": 3
   },
   "file_extension": ".py",
   "mimetype": "text/x-python",
   "name": "python",
   "nbconvert_exporter": "python",
   "pygments_lexer": "ipython3",
   "version": "3.7.6"
  }
 },
 "nbformat": 4,
 "nbformat_minor": 4
}
