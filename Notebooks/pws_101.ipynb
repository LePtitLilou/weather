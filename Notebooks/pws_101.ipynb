{
 "cells": [
  {
   "cell_type": "code",
   "execution_count": 1,
   "metadata": {},
   "outputs": [],
   "source": [
    "import lpl_weather\n",
    "import json"
   ]
  },
  {
   "cell_type": "code",
   "execution_count": 4,
   "metadata": {},
   "outputs": [
    {
     "name": "stdout",
     "output_type": "stream",
     "text": [
      "\t\t Success\n"
     ]
    }
   ],
   "source": [
    "pws = lpl_weather.PWS()\n",
    "name, feb_26_2016 = pws.fetch_day(2016,2,26)"
   ]
  },
  {
   "cell_type": "code",
   "execution_count": 5,
   "metadata": {},
   "outputs": [],
   "source": [
    "obs = feb_26_2016[\"observations\"]\n",
    "n = len(obs)\n",
    "data = obs[0][\"imperial\"]"
   ]
  },
  {
   "cell_type": "code",
   "execution_count": 6,
   "metadata": {},
   "outputs": [],
   "source": [
    "with open(\"/home/doutriaux1/Weather_old/history/KCALIVER78/20160226.json\") as f:\n",
    "    feb_26_2016_old = json.load(f)"
   ]
  },
  {
   "cell_type": "code",
   "execution_count": 7,
   "metadata": {},
   "outputs": [],
   "source": [
    "obs_old = feb_26_2016_old[\"history\"][\"days\"][0][\"observations\"]\n",
    "n_old = len(obs_old)\n",
    "data_old = obs_old[0]"
   ]
  },
  {
   "cell_type": "code",
   "execution_count": 8,
   "metadata": {},
   "outputs": [
    {
     "data": {
      "text/plain": [
       "(87, 82)"
      ]
     },
     "execution_count": 8,
     "metadata": {},
     "output_type": "execute_result"
    }
   ],
   "source": [
    "n, n_old"
   ]
  },
  {
   "cell_type": "code",
   "execution_count": 9,
   "metadata": {},
   "outputs": [
    {
     "data": {
      "text/plain": [
       "{'tempHigh': 48.6,\n",
       " 'tempLow': 48.6,\n",
       " 'tempAvg': 48.6,\n",
       " 'windspeedHigh': 0.0,\n",
       " 'windspeedLow': 0.0,\n",
       " 'windspeedAvg': 0.0,\n",
       " 'windgustHigh': None,\n",
       " 'windgustLow': None,\n",
       " 'windgustAvg': None,\n",
       " 'dewptHigh': 48.3,\n",
       " 'dewptLow': 48.3,\n",
       " 'dewptAvg': 48.3,\n",
       " 'windchillHigh': None,\n",
       " 'windchillLow': None,\n",
       " 'windchillAvg': None,\n",
       " 'heatindexHigh': None,\n",
       " 'heatindexLow': None,\n",
       " 'heatindexAvg': None,\n",
       " 'pressureMax': 30.12,\n",
       " 'pressureMin': 30.12,\n",
       " 'pressureTrend': 0.0,\n",
       " 'precipRate': None,\n",
       " 'precipTotal': 0.0}"
      ]
     },
     "execution_count": 9,
     "metadata": {},
     "output_type": "execute_result"
    }
   ],
   "source": [
    "data"
   ]
  },
  {
   "cell_type": "code",
   "execution_count": 10,
   "metadata": {},
   "outputs": [
    {
     "data": {
      "text/plain": [
       "{'date': {'epoch': 1456473840,\n",
       "  'iso8601': '2016-02-26T00:04:00-0800',\n",
       "  'tz_offset_hours': -8.0},\n",
       " 'temperature': 48.6,\n",
       " 'dewpoint': 48.3,\n",
       " 'humidity': 99,\n",
       " 'wind_speed': 0.0,\n",
       " 'wind_gust_speed': None,\n",
       " 'wind_dir_degrees': 112,\n",
       " 'wind_dir': 'ESE',\n",
       " 'pressure': 30.12,\n",
       " 'windchill': None,\n",
       " 'heatindex': None,\n",
       " 'precip': None,\n",
       " 'precip_rate': None,\n",
       " 'precip_1hr': -99.99,\n",
       " 'precip_today': 0.0,\n",
       " 'solarradiation': None,\n",
       " 'uv_index': None,\n",
       " 'temperature_indoor': None,\n",
       " 'humidity_indoor': None,\n",
       " 'software_type': 'Acu-Link.com'}"
      ]
     },
     "execution_count": 10,
     "metadata": {},
     "output_type": "execute_result"
    }
   ],
   "source": [
    "data_old"
   ]
  },
  {
   "cell_type": "code",
   "execution_count": null,
   "metadata": {},
   "outputs": [],
   "source": []
  }
 ],
 "metadata": {
  "kernelspec": {
   "display_name": "Python 3",
   "language": "python",
   "name": "python3"
  },
  "language_info": {
   "codemirror_mode": {
    "name": "ipython",
    "version": 3
   },
   "file_extension": ".py",
   "mimetype": "text/x-python",
   "name": "python",
   "nbconvert_exporter": "python",
   "pygments_lexer": "ipython3",
   "version": "3.7.6"
  }
 },
 "nbformat": 4,
 "nbformat_minor": 4
}
